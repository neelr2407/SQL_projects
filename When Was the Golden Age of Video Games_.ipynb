{
 "cells": [
  {
   "cell_type": "code",
   "execution_count": null,
   "id": "fc99d7cd",
   "metadata": {},
   "outputs": [],
   "source": [
    "#Selected all information for the top ten best-selling games\n",
    "#Ordered the results from best-selling game down to tenth best-selling\n",
    "SELECT *\n",
    "FROM game_sales\n",
    "ORDER BY games_sold DESC\n",
    "LIMIT 10;"
   ]
  },
  {
   "cell_type": "code",
   "execution_count": null,
   "id": "2c8cf86f",
   "metadata": {},
   "outputs": [],
   "source": [
    "#Joined games_sales and reviews\n",
    "#Selected a count of the number of games where both critic_score and user_score are null\n",
    "SELECT COUNT(*)\n",
    "FROM game_sales gs\n",
    "LEFT JOIN reviews r\n",
    "USING(game)\n",
    "WHERE critic_score IS NULL AND user_score IS NULL;\n",
    "\n",
    "\n"
   ]
  },
  {
   "cell_type": "code",
   "execution_count": null,
   "id": "12e5b4cb",
   "metadata": {},
   "outputs": [],
   "source": [
    "#Selected release year and average critic score for each year, rounded and aliased\n",
    "#Joined the game_sales and reviews tables\n",
    "#Grouped by release year\n",
    "#Ordered the data from highest to lowest avg_critic_score and limited the result to 10\n",
    "SELECT \n",
    "    gs.year,\n",
    "    ROUND(AVG(r.critic_score),2) AS avg_critic_score\n",
    "FROM game_sales gs\n",
    "INNER JOIN reviews r\n",
    "USING(game)\n",
    "GROUP BY gs.year\n",
    "ORDER BY avg_critic_score DESC\n",
    "LIMIT 10;"
   ]
  },
  {
   "cell_type": "code",
   "execution_count": null,
   "id": "95e55261",
   "metadata": {},
   "outputs": [],
   "source": [
    "#Pasted the query from the previous task; updated it to add a count of games released in each year called num_games\n",
    "#Updated the query so that it only returns years that have more than four reviewed games\n",
    "SELECT \n",
    "    gs.year,\n",
    "    COUNT(gs.game) AS num_games,\n",
    "    ROUND(AVG(r.critic_score),2) AS avg_critic_score\n",
    "FROM game_sales gs\n",
    "INNER JOIN reviews r \n",
    "USING(game)\n",
    "GROUP BY gs.year\n",
    "HAVING COUNT(gs.game) > 4\n",
    "ORDER BY avg_critic_score DESC\n",
    "LIMIT 10;"
   ]
  },
  {
   "cell_type": "code",
   "execution_count": null,
   "id": "2d1c541d",
   "metadata": {},
   "outputs": [],
   "source": [
    "#Selected the year and avg_critic_score for those years that dropped off the list of critic favorites \n",
    "#Ordered the results from highest to lowest avg_critic_score\n",
    "SELECT year, avg_critic_score\n",
    "FROM top_critic_years\n",
    "EXCEPT\n",
    "SELECT year, avg_critic_score\n",
    "FROM top_critic_years_more_than_four_games \n",
    "ORDER BY avg_critic_score DESC;"
   ]
  },
  {
   "cell_type": "code",
   "execution_count": null,
   "id": "11c466f8",
   "metadata": {},
   "outputs": [],
   "source": [
    "#Selected year, an average of user_score, and a count of games released in a given year, aliased and rounded\n",
    "#Included only years with more than four reviewed games; grouped data by year\n",
    "#Ordered data by avg_user_score, and limited the result to ten\n",
    "SELECT \n",
    "    gs.year,\n",
    "    COUNT(gs.game) AS num_games,\n",
    "    ROUND(AVG(r.user_score),2) AS avg_user_score\n",
    "FROM game_sales gs\n",
    "INNER JOIN reviews r \n",
    "USING(game)\n",
    "GROUP BY gs.year\n",
    "HAVING COUNT(gs.game) > 4\n",
    "ORDER BY avg_user_score DESC\n",
    "LIMIT 10;\n"
   ]
  },
  {
   "cell_type": "code",
   "execution_count": null,
   "id": "fb219f74",
   "metadata": {},
   "outputs": [],
   "source": [
    "#Selected the year results that appeared on both tables\n",
    "SELECT year\n",
    "FROM top_critic_years_more_than_four_games\n",
    "INTERSECT\n",
    "SELECT year\n",
    "FROM top_user_years_more_than_four_games"
   ]
  },
  {
   "cell_type": "code",
   "execution_count": null,
   "id": "f9e1ca15",
   "metadata": {},
   "outputs": [],
   "source": [
    "#Selected year and sum of games_sold, aliased as total_games_sold; ordered results by total_games_sold descending\n",
    "#Filtered game_sales based on whether each year is in the list returned in the previous query\n",
    "SELECT\n",
    "    gs.year,\n",
    "    SUM(gs.games_sold) AS total_games_sold\n",
    "FROM game_sales gs\n",
    "WHERE gs.year IN (SELECT year\n",
    "FROM top_user_years_more_than_four_games\n",
    "                 \n",
    "INTERSECT\n",
    "SELECT year\n",
    "FROM top_critic_years_more_than_four_games)\n",
    "GROUP BY gs.year\n",
    "ORDER BY total_games_sold DESC;"
   ]
  }
 ],
 "metadata": {
  "kernelspec": {
   "display_name": "Python 3 (ipykernel)",
   "language": "python",
   "name": "python3"
  },
  "language_info": {
   "codemirror_mode": {
    "name": "ipython",
    "version": 3
   },
   "file_extension": ".py",
   "mimetype": "text/x-python",
   "name": "python",
   "nbconvert_exporter": "python",
   "pygments_lexer": "ipython3",
   "version": "3.10.9"
  }
 },
 "nbformat": 4,
 "nbformat_minor": 5
}
